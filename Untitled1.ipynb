{
  "nbformat": 4,
  "nbformat_minor": 0,
  "metadata": {
    "colab": {
      "name": "Untitled1.ipynb",
      "provenance": [],
      "authorship_tag": "ABX9TyO2j0kJp9HMbwJhsU7MhRGX",
      "include_colab_link": true
    },
    "kernelspec": {
      "name": "python3",
      "display_name": "Python 3"
    }
  },
  "cells": [
    {
      "cell_type": "markdown",
      "metadata": {
        "id": "view-in-github",
        "colab_type": "text"
      },
      "source": [
        "<a href=\"https://colab.research.google.com/github/DiKasko/GitHub/blob/main/Untitled1.ipynb\" target=\"_parent\"><img src=\"https://colab.research.google.com/assets/colab-badge.svg\" alt=\"Open In Colab\"/></a>"
      ]
    },
    {
      "cell_type": "code",
      "metadata": {
        "colab": {
          "base_uri": "https://localhost:8080/"
        },
        "id": "HGMsxjSJFach",
        "outputId": "6e5ed467-bfaf-4097-ba67-53e20afd80c4"
      },
      "source": [
        "print(\"Перевод из Десятичной системы в двоичную \\n 5 = 101 \\n 13 = 1101 \\n 21 = 10101 \\n 27 = 11011\")\n",
        "\n",
        "print(\"Введите число:\")\n",
        "n = int(input())\n",
        "\n",
        "b = ''\n",
        "\n",
        "while n > 0:\n",
        "    b = str(n % 2) + b\n",
        "    n = n // 2\n",
        "\n",
        "print(b)"
      ],
      "execution_count": 1,
      "outputs": [
        {
          "output_type": "stream",
          "text": [
            "Перевод из Десятичной системы в двоичную \n",
            " 5 = 101 \n",
            " 13 = 1101 \n",
            " 21 = 10101 \n",
            " 27 = 11011\n",
            "Введите число:\n",
            "20\n",
            "10100\n"
          ],
          "name": "stdout"
        }
      ]
    }
  ]
}